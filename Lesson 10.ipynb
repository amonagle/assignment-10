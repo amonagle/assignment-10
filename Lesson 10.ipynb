{
 "cells": [
  {
   "cell_type": "markdown",
   "id": "f4f9b20f",
   "metadata": {},
   "source": [
    "# Data and Code Management"
   ]
  },
  {
   "cell_type": "markdown",
   "id": "ec3123e0",
   "metadata": {},
   "source": [
    "## Flask API Tutorial\n",
    "This tutorial will guide you through building a simple Flask API in Python. \n",
    "\n",
    "Flask library (install using pip install Flask)\n",
    "\n",
    "Learning Objectives:\n",
    "\n",
    "- Create a Flask application\n",
    "- Define routes for API endpoints\n",
    "- Handle different HTTP methods (GET, POST)\n",
    "- Return JSON data\n",
    "- Implement basic error handling"
   ]
  },
  {
   "cell_type": "code",
   "execution_count": 1,
   "id": "7ba8799c",
   "metadata": {
    "scrolled": true
   },
   "outputs": [
    {
     "name": "stdout",
     "output_type": "stream",
     "text": [
      "Defaulting to user installation because normal site-packages is not writeable\n",
      "Requirement already satisfied: flask in c:\\users\\annem\\appdata\\roaming\\python\\python39\\site-packages (3.1.0)\n",
      "Requirement already satisfied: itsdangerous>=2.2 in c:\\users\\annem\\appdata\\roaming\\python\\python39\\site-packages (from flask) (2.2.0)\n",
      "Requirement already satisfied: blinker>=1.9 in c:\\users\\annem\\appdata\\roaming\\python\\python39\\site-packages (from flask) (1.9.0)\n",
      "Requirement already satisfied: click>=8.1.3 in c:\\users\\annem\\appdata\\roaming\\python\\python39\\site-packages (from flask) (8.1.7)\n",
      "Requirement already satisfied: Jinja2>=3.1.2 in c:\\users\\annem\\appdata\\roaming\\python\\python39\\site-packages (from flask) (3.1.4)\n",
      "Requirement already satisfied: importlib-metadata>=3.6 in c:\\program files\\arcgis\\pro\\bin\\python\\envs\\arcgispro-py3\\lib\\site-packages (from flask) (4.11.3)\n",
      "Requirement already satisfied: Werkzeug>=3.1 in c:\\users\\annem\\appdata\\roaming\\python\\python39\\site-packages (from flask) (3.1.3)\n",
      "Requirement already satisfied: colorama in c:\\program files\\arcgis\\pro\\bin\\python\\envs\\arcgispro-py3\\lib\\site-packages (from click>=8.1.3->flask) (0.4.5)\n",
      "Requirement already satisfied: zipp>=0.5 in c:\\program files\\arcgis\\pro\\bin\\python\\envs\\arcgispro-py3\\lib\\site-packages (from importlib-metadata>=3.6->flask) (3.8.0)\n",
      "Requirement already satisfied: MarkupSafe>=2.0 in c:\\program files\\arcgis\\pro\\bin\\python\\envs\\arcgispro-py3\\lib\\site-packages (from Jinja2>=3.1.2->flask) (2.1.1)\n",
      "Note: you may need to restart the kernel to use updated packages.\n"
     ]
    }
   ],
   "source": [
    "pip install flask"
   ]
  },
  {
   "cell_type": "markdown",
   "id": "22cb0c19",
   "metadata": {},
   "source": [
    "This cell imports the Flask class and creates an instance of a Flask application named app. The __name__ variable refers to the current Python module. Setting debug=True enables Flask's debugger, which helps identify errors during development.\n",
    "\n",
    "It then defines a route for the root URL (/) using the @app.route decorator. The function hello_world will be executed when a GET request is made to this route. The function returns a string message, which will be the response sent back to the client.\n",
    "\n"
   ]
  },
  {
   "cell_type": "code",
   "execution_count": 2,
   "id": "ab1752ee",
   "metadata": {
    "scrolled": true
   },
   "outputs": [],
   "source": [
    "from flask import Flask\n",
    "\n",
    "app = Flask(\"First app\")"
   ]
  },
  {
   "cell_type": "code",
   "execution_count": 3,
   "id": "e56dd460",
   "metadata": {
    "scrolled": true
   },
   "outputs": [],
   "source": [
    "\n",
    "\n",
    "@app.route(\"/\")\n",
    "def hello_world():\n",
    "    return \"<p>Hello, World!</p>\"\n",
    "\n",
    "\n"
   ]
  },
  {
   "cell_type": "code",
   "execution_count": 4,
   "id": "0b4169cf",
   "metadata": {
    "scrolled": true
   },
   "outputs": [
    {
     "name": "stdout",
     "output_type": "stream",
     "text": [
      " * Serving Flask app 'First app'\n",
      " * Debug mode: off\n"
     ]
    },
    {
     "name": "stderr",
     "output_type": "stream",
     "text": [
      "WARNING: This is a development server. Do not use it in a production deployment. Use a production WSGI server instead.\n",
      " * Running on http://localhost:5005\n",
      "Press CTRL+C to quit\n",
      "127.0.0.1 - - [14/Dec/2024 14:19:15] \"GET / HTTP/1.1\" 200 -\n",
      "127.0.0.1 - - [14/Dec/2024 14:19:15] \"GET /favicon.ico HTTP/1.1\" 404 -\n"
     ]
    }
   ],
   "source": [
    "# Run the Flask development server (optional for this cell)\n",
    "app.run(host='localhost', port=5005)"
   ]
  },
  {
   "cell_type": "markdown",
   "id": "0a07a9a9",
   "metadata": {},
   "source": [
    "This cell demonstrates how to create routes that accept variables. The <name> part in the URL pattern (/hello/<name>) is a placeholder that will be replaced with the actual value provided in the URL. The hello_name function receives this value as an argument named name. We use f-strings to dynamically create a greeting message that includes the provided name."
   ]
  },
  {
   "cell_type": "code",
   "execution_count": 127,
   "id": "6f0d583b",
   "metadata": {
    "scrolled": true
   },
   "outputs": [],
   "source": [
    "from flask import Flask\n",
    "\n",
    "app = Flask(\"First app\")\n",
    "\n",
    "@app.route('/hello/<name>')\n",
    "def hello_name(name):\n",
    "  # Use the `name` variable from the URL\n",
    "  return f\"Hello, {name}!\"\n"
   ]
  },
  {
   "cell_type": "code",
   "execution_count": 128,
   "id": "f2df3f5b",
   "metadata": {
    "scrolled": true
   },
   "outputs": [
    {
     "name": "stdout",
     "output_type": "stream",
     "text": [
      " * Serving Flask app 'First app'\n",
      " * Debug mode: off\n"
     ]
    },
    {
     "name": "stderr",
     "output_type": "stream",
     "text": [
      "WARNING: This is a development server. Do not use it in a production deployment. Use a production WSGI server instead.\n",
      " * Running on http://localhost:5006\n",
      "Press CTRL+C to quit\n"
     ]
    }
   ],
   "source": [
    "app.run(host='localhost', port=5006)\n",
    "#go to http://localhost:5006/hello/John"
   ]
  },
  {
   "cell_type": "markdown",
   "id": "4d552b45",
   "metadata": {},
   "source": [
    "This cell introduces handling different HTTP methods (GET and POST). When the user visits /form with a GET request, the first section of the form function is executed. Here, we return an HTML form that allows the user to enter their name in a text input field and submit it.\n",
    "\n",
    "When the user submits the form, a POST request is sent to the same URL (/form). "
   ]
  },
  {
   "cell_type": "code",
   "execution_count": 23,
   "id": "fcaa15c0",
   "metadata": {
    "scrolled": true
   },
   "outputs": [],
   "source": [
    "from flask import Flask, request\n",
    "\n",
    "\n",
    "app = Flask(\"First app\")\n",
    "\n",
    "@app.route('/form', methods=['GET', 'POST'])\n",
    "def form():\n",
    "    if request.method == 'GET':\n",
    "        # Display a form for the user to input their name\n",
    "        return '''<form method=\"POST\">\n",
    "                    <label for=\"username\">Enter your name:</label>\n",
    "                    <input type=\"text\" name=\"username\" id=\"username\" placeholder=\"Enter your name\">\n",
    "                    <button type=\"submit\">Submit</button>\n",
    "                  </form>'''\n",
    "    else:\n",
    "        # Process the submitted form data\n",
    "        try:\n",
    "            username = request.form['username']\n",
    "            return f\"Hello, {username}!\"\n",
    "        except KeyError:\n",
    "            # Handle the case where the 'username' key is not present in the form data\n",
    "            return \"Please enter your name in the form.\"\n"
   ]
  },
  {
   "cell_type": "code",
   "execution_count": 24,
   "id": "6b157996",
   "metadata": {
    "scrolled": true
   },
   "outputs": [
    {
     "name": "stdout",
     "output_type": "stream",
     "text": [
      " * Serving Flask app 'First app'\n",
      " * Debug mode: off\n"
     ]
    },
    {
     "name": "stderr",
     "output_type": "stream",
     "text": [
      "WARNING: This is a development server. Do not use it in a production deployment. Use a production WSGI server instead.\n",
      " * Running on http://localhost:5006\n",
      "Press CTRL+C to quit\n",
      "127.0.0.1 - - [14/Dec/2024 15:10:45] \"GET /form HTTP/1.1\" 200 -\n",
      "127.0.0.1 - - [14/Dec/2024 15:10:51] \"POST /form HTTP/1.1\" 200 -\n"
     ]
    }
   ],
   "source": [
    "app.run(host='localhost', port=5006)"
   ]
  },
  {
   "cell_type": "markdown",
   "id": "d944b6e0",
   "metadata": {},
   "source": [
    "This cell introduces templating with Jinja2, a powerful engine used by Flask for rendering dynamic HTML content. We import render_template from Flask. The @app.route('/') decorator is used again for the root path.\n",
    "\n",
    "- We create a dictionary named data containing variables to be used in the template.\n",
    "- The render_template function takes two arguments:\n",
    "    - The template filename ('index.html')\n",
    "    - A dictionary (data) containing variables to be passed to the template (context)"
   ]
  },
  {
   "cell_type": "code",
   "execution_count": 12,
   "id": "5c51fc06",
   "metadata": {
    "scrolled": true
   },
   "outputs": [],
   "source": [
    "from flask import Flask, render_template\n",
    "\n",
    "app = Flask(\"First app\")\n",
    "\n",
    "@app.route('/')\n",
    "def index():\n",
    "    # Create a dictionary to pass data to the template\n",
    "    data = {'title': 'My Flask App', 'message': 'Welcome!'}\n",
    "    return render_template('index.html', data=data)\n"
   ]
  },
  {
   "cell_type": "code",
   "execution_count": 13,
   "id": "c1668482",
   "metadata": {
    "scrolled": true
   },
   "outputs": [
    {
     "name": "stdout",
     "output_type": "stream",
     "text": [
      " * Serving Flask app 'First app'\n",
      " * Debug mode: off\n"
     ]
    },
    {
     "name": "stderr",
     "output_type": "stream",
     "text": [
      "WARNING: This is a development server. Do not use it in a production deployment. Use a production WSGI server instead.\n",
      " * Running on http://localhost:5001\n",
      "Press CTRL+C to quit\n",
      "127.0.0.1 - - [09/Dec/2024 20:10:55] \"GET / HTTP/1.1\" 200 -\n"
     ]
    }
   ],
   "source": [
    "app.run(host='localhost', port=5001)\n"
   ]
  },
  {
   "cell_type": "code",
   "execution_count": 14,
   "id": "30b075e6",
   "metadata": {
    "scrolled": true
   },
   "outputs": [],
   "source": [
    "@app.route('/users')\n",
    "def users():\n",
    "    # Create a list of users\n",
    "    users = ['Alice', 'Bob', 'Charlie']\n",
    "    return render_template('users.html', users=users)\n"
   ]
  },
  {
   "cell_type": "code",
   "execution_count": 15,
   "id": "a54d017b",
   "metadata": {
    "scrolled": true
   },
   "outputs": [
    {
     "name": "stdout",
     "output_type": "stream",
     "text": [
      " * Serving Flask app 'First app'\n",
      " * Debug mode: off\n"
     ]
    },
    {
     "name": "stderr",
     "output_type": "stream",
     "text": [
      "WARNING: This is a development server. Do not use it in a production deployment. Use a production WSGI server instead.\n",
      " * Running on http://localhost:5001\n",
      "Press CTRL+C to quit\n",
      "127.0.0.1 - - [09/Dec/2024 20:11:06] \"GET / HTTP/1.1\" 200 -\n"
     ]
    }
   ],
   "source": [
    "app.run(host='localhost', port=5001)\n"
   ]
  },
  {
   "cell_type": "markdown",
   "id": "e27c9e4a",
   "metadata": {},
   "source": [
    "# Assignment "
   ]
  },
  {
   "cell_type": "markdown",
   "id": "e437e3bc",
   "metadata": {},
   "source": [
    "You were introduced to the Python data types, structures, frames, formats, such as JSON and CSV, and interface. You have also been introduced to the Python Flask package for building web pages. The purpose of this assignment is to reinforce and assess your learning of the mentioned Python features through practice.  "
   ]
  },
  {
   "cell_type": "markdown",
   "id": "2d5411d8",
   "metadata": {},
   "source": [
    "## Question 1: Read the CSV file into a Pandas data frame and drop records where company names are None values:\n",
    "- Print the count of records (rows) in the resulting data frame\n",
    "- Print the first 5 records of the data frame\n"
   ]
  },
  {
   "cell_type": "code",
   "execution_count": 5,
   "id": "96307dda",
   "metadata": {
    "scrolled": true
   },
   "outputs": [
    {
     "name": "stdout",
     "output_type": "stream",
     "text": [
      "No missing company names, no records dropped.\n",
      "Count of records: 9999\n"
     ]
    },
    {
     "data": {
      "text/html": [
       "<div>\n",
       "<style scoped>\n",
       "    .dataframe tbody tr th:only-of-type {\n",
       "        vertical-align: middle;\n",
       "    }\n",
       "\n",
       "    .dataframe tbody tr th {\n",
       "        vertical-align: top;\n",
       "    }\n",
       "\n",
       "    .dataframe thead th {\n",
       "        text-align: right;\n",
       "    }\n",
       "</style>\n",
       "<table border=\"1\" class=\"dataframe\">\n",
       "  <thead>\n",
       "    <tr style=\"text-align: right;\">\n",
       "      <th></th>\n",
       "      <th>uuid</th>\n",
       "      <th>name</th>\n",
       "      <th>type</th>\n",
       "      <th>primary_role</th>\n",
       "      <th>cb_url</th>\n",
       "      <th>domain</th>\n",
       "      <th>homepage_url</th>\n",
       "      <th>logo_url</th>\n",
       "      <th>facebook_url</th>\n",
       "      <th>twitter_url</th>\n",
       "      <th>linkedin_url</th>\n",
       "      <th>combined_stock_symbols</th>\n",
       "      <th>city</th>\n",
       "      <th>region</th>\n",
       "      <th>country_code</th>\n",
       "      <th>short_description</th>\n",
       "    </tr>\n",
       "  </thead>\n",
       "  <tbody>\n",
       "    <tr>\n",
       "      <th>0</th>\n",
       "      <td>e1393508-30ea-8a36-3f96-dd3226033abd</td>\n",
       "      <td>Wetpaint</td>\n",
       "      <td>organization</td>\n",
       "      <td>company</td>\n",
       "      <td>https://www.crunchbase.com/organization/wetpai...</td>\n",
       "      <td>wetpaint.com</td>\n",
       "      <td>http://www.wetpaint.com/</td>\n",
       "      <td>https://res.cloudinary.com/crunchbase-producti...</td>\n",
       "      <td>https://www.facebook.com/Wetpaint</td>\n",
       "      <td>https://twitter.com/wetpainttv</td>\n",
       "      <td>https://www.linkedin.com/company/wetpaint</td>\n",
       "      <td>NaN</td>\n",
       "      <td>New York</td>\n",
       "      <td>New York</td>\n",
       "      <td>USA</td>\n",
       "      <td>Wetpaint offers an online social publishing pl...</td>\n",
       "    </tr>\n",
       "    <tr>\n",
       "      <th>1</th>\n",
       "      <td>bf4d7b0e-b34d-2fd8-d292-6049c4f7efc7</td>\n",
       "      <td>Zoho</td>\n",
       "      <td>organization</td>\n",
       "      <td>company</td>\n",
       "      <td>https://www.crunchbase.com/organization/zoho?u...</td>\n",
       "      <td>zoho.com</td>\n",
       "      <td>https://www.zoho.com/</td>\n",
       "      <td>https://res.cloudinary.com/crunchbase-producti...</td>\n",
       "      <td>http://www.facebook.com/zoho</td>\n",
       "      <td>http://twitter.com/zoho</td>\n",
       "      <td>http://www.linkedin.com/company/zoho-corporati...</td>\n",
       "      <td>NaN</td>\n",
       "      <td>Pleasanton</td>\n",
       "      <td>California</td>\n",
       "      <td>USA</td>\n",
       "      <td>Zoho offers a suite of business, collaboration...</td>\n",
       "    </tr>\n",
       "    <tr>\n",
       "      <th>2</th>\n",
       "      <td>5f2b40b8-d1b3-d323-d81a-b7a8e89553d0</td>\n",
       "      <td>Digg</td>\n",
       "      <td>organization</td>\n",
       "      <td>company</td>\n",
       "      <td>https://www.crunchbase.com/organization/digg?u...</td>\n",
       "      <td>digg.com</td>\n",
       "      <td>http://www.digg.com</td>\n",
       "      <td>https://res.cloudinary.com/crunchbase-producti...</td>\n",
       "      <td>http://www.facebook.com/digg</td>\n",
       "      <td>http://twitter.com/digg</td>\n",
       "      <td>http://www.linkedin.com/company/digg</td>\n",
       "      <td>NaN</td>\n",
       "      <td>New York</td>\n",
       "      <td>New York</td>\n",
       "      <td>USA</td>\n",
       "      <td>Digg Inc. operates a website that enables its ...</td>\n",
       "    </tr>\n",
       "    <tr>\n",
       "      <th>3</th>\n",
       "      <td>df662812-7f97-0b43-9d3e-12f64f504fbb</td>\n",
       "      <td>Facebook</td>\n",
       "      <td>organization</td>\n",
       "      <td>company</td>\n",
       "      <td>https://www.crunchbase.com/organization/facebo...</td>\n",
       "      <td>facebook.com</td>\n",
       "      <td>http://www.facebook.com</td>\n",
       "      <td>https://res.cloudinary.com/crunchbase-producti...</td>\n",
       "      <td>https://www.facebook.com/facebook/</td>\n",
       "      <td>https://twitter.com/facebook</td>\n",
       "      <td>http://www.linkedin.com/company/facebook</td>\n",
       "      <td>nasdaq:FB</td>\n",
       "      <td>Menlo Park</td>\n",
       "      <td>California</td>\n",
       "      <td>USA</td>\n",
       "      <td>Facebook is an online social networking servic...</td>\n",
       "    </tr>\n",
       "    <tr>\n",
       "      <th>4</th>\n",
       "      <td>b08efc27-da40-505a-6f9d-c9e14247bf36</td>\n",
       "      <td>Accel</td>\n",
       "      <td>organization</td>\n",
       "      <td>investor</td>\n",
       "      <td>https://www.crunchbase.com/organization/accel?...</td>\n",
       "      <td>accel.com</td>\n",
       "      <td>http://www.accel.com</td>\n",
       "      <td>https://res.cloudinary.com/crunchbase-producti...</td>\n",
       "      <td>http://www.facebook.com/accel</td>\n",
       "      <td>http://twitter.com/accel</td>\n",
       "      <td>https://www.linkedin.com/company/accel-vc/</td>\n",
       "      <td>NaN</td>\n",
       "      <td>Palo Alto</td>\n",
       "      <td>California</td>\n",
       "      <td>USA</td>\n",
       "      <td>Accel is an early and growth-stage venture cap...</td>\n",
       "    </tr>\n",
       "  </tbody>\n",
       "</table>\n",
       "</div>"
      ],
      "text/plain": [
       "                                   uuid      name          type primary_role  \\\n",
       "0  e1393508-30ea-8a36-3f96-dd3226033abd  Wetpaint  organization      company   \n",
       "1  bf4d7b0e-b34d-2fd8-d292-6049c4f7efc7      Zoho  organization      company   \n",
       "2  5f2b40b8-d1b3-d323-d81a-b7a8e89553d0      Digg  organization      company   \n",
       "3  df662812-7f97-0b43-9d3e-12f64f504fbb  Facebook  organization      company   \n",
       "4  b08efc27-da40-505a-6f9d-c9e14247bf36     Accel  organization     investor   \n",
       "\n",
       "                                              cb_url        domain  \\\n",
       "0  https://www.crunchbase.com/organization/wetpai...  wetpaint.com   \n",
       "1  https://www.crunchbase.com/organization/zoho?u...      zoho.com   \n",
       "2  https://www.crunchbase.com/organization/digg?u...      digg.com   \n",
       "3  https://www.crunchbase.com/organization/facebo...  facebook.com   \n",
       "4  https://www.crunchbase.com/organization/accel?...     accel.com   \n",
       "\n",
       "               homepage_url  \\\n",
       "0  http://www.wetpaint.com/   \n",
       "1     https://www.zoho.com/   \n",
       "2       http://www.digg.com   \n",
       "3   http://www.facebook.com   \n",
       "4      http://www.accel.com   \n",
       "\n",
       "                                            logo_url  \\\n",
       "0  https://res.cloudinary.com/crunchbase-producti...   \n",
       "1  https://res.cloudinary.com/crunchbase-producti...   \n",
       "2  https://res.cloudinary.com/crunchbase-producti...   \n",
       "3  https://res.cloudinary.com/crunchbase-producti...   \n",
       "4  https://res.cloudinary.com/crunchbase-producti...   \n",
       "\n",
       "                         facebook_url                     twitter_url  \\\n",
       "0   https://www.facebook.com/Wetpaint  https://twitter.com/wetpainttv   \n",
       "1        http://www.facebook.com/zoho         http://twitter.com/zoho   \n",
       "2        http://www.facebook.com/digg         http://twitter.com/digg   \n",
       "3  https://www.facebook.com/facebook/    https://twitter.com/facebook   \n",
       "4       http://www.facebook.com/accel        http://twitter.com/accel   \n",
       "\n",
       "                                        linkedin_url combined_stock_symbols  \\\n",
       "0          https://www.linkedin.com/company/wetpaint                    NaN   \n",
       "1  http://www.linkedin.com/company/zoho-corporati...                    NaN   \n",
       "2               http://www.linkedin.com/company/digg                    NaN   \n",
       "3           http://www.linkedin.com/company/facebook              nasdaq:FB   \n",
       "4         https://www.linkedin.com/company/accel-vc/                    NaN   \n",
       "\n",
       "         city      region country_code  \\\n",
       "0    New York    New York          USA   \n",
       "1  Pleasanton  California          USA   \n",
       "2    New York    New York          USA   \n",
       "3  Menlo Park  California          USA   \n",
       "4   Palo Alto  California          USA   \n",
       "\n",
       "                                   short_description  \n",
       "0  Wetpaint offers an online social publishing pl...  \n",
       "1  Zoho offers a suite of business, collaboration...  \n",
       "2  Digg Inc. operates a website that enables its ...  \n",
       "3  Facebook is an online social networking servic...  \n",
       "4  Accel is an early and growth-stage venture cap...  "
      ]
     },
     "execution_count": 5,
     "metadata": {},
     "output_type": "execute_result"
    }
   ],
   "source": [
    "import pandas as pd\n",
    "df = pd.read_csv(r\"C:\\Users\\annem\\Desktop\\Lesson 10\\templates\\crunchbase_odm_orgs.csv\")\n",
    "lengthNoDrops = len(df)\n",
    "cleaned = df.dropna(subset=['name'])\n",
    "lengthDropped = len(cleaned)\n",
    "\n",
    "# Print the count of records in the resulting data frame\n",
    "if lengthDropped == lengthNoDrops:\n",
    "    print(\"No missing company names, no records dropped.\")\n",
    "    print(f'Count of records: {lengthDropped}')\n",
    "else:\n",
    "    print(f'Dropped {lengthNoDrops-lengthDropped} records.')\n",
    "    print(f'Count of records: {lengthDropped}')\n",
    "\n",
    "# Print the first 5 records of the data frame    \n",
    "df.head()"
   ]
  },
  {
   "cell_type": "markdown",
   "id": "51d08342",
   "metadata": {},
   "source": [
    "## Question 2: Create a data frame that contains only the records of USA-based companies whose name starts with \"Ac\":\n",
    "- Print the count of records (rows) in the resulting data frame\n",
    "- Print the first 5 records of the data frame\n"
   ]
  },
  {
   "cell_type": "code",
   "execution_count": 6,
   "id": "02a72b49",
   "metadata": {
    "scrolled": true
   },
   "outputs": [
    {
     "name": "stdout",
     "output_type": "stream",
     "text": [
      "Count of records: 35\n"
     ]
    },
    {
     "data": {
      "text/html": [
       "<div>\n",
       "<style scoped>\n",
       "    .dataframe tbody tr th:only-of-type {\n",
       "        vertical-align: middle;\n",
       "    }\n",
       "\n",
       "    .dataframe tbody tr th {\n",
       "        vertical-align: top;\n",
       "    }\n",
       "\n",
       "    .dataframe thead th {\n",
       "        text-align: right;\n",
       "    }\n",
       "</style>\n",
       "<table border=\"1\" class=\"dataframe\">\n",
       "  <thead>\n",
       "    <tr style=\"text-align: right;\">\n",
       "      <th></th>\n",
       "      <th>uuid</th>\n",
       "      <th>name</th>\n",
       "      <th>type</th>\n",
       "      <th>primary_role</th>\n",
       "      <th>cb_url</th>\n",
       "      <th>domain</th>\n",
       "      <th>homepage_url</th>\n",
       "      <th>logo_url</th>\n",
       "      <th>facebook_url</th>\n",
       "      <th>twitter_url</th>\n",
       "      <th>linkedin_url</th>\n",
       "      <th>combined_stock_symbols</th>\n",
       "      <th>city</th>\n",
       "      <th>region</th>\n",
       "      <th>country_code</th>\n",
       "      <th>short_description</th>\n",
       "    </tr>\n",
       "  </thead>\n",
       "  <tbody>\n",
       "    <tr>\n",
       "      <th>4</th>\n",
       "      <td>b08efc27-da40-505a-6f9d-c9e14247bf36</td>\n",
       "      <td>accel</td>\n",
       "      <td>organization</td>\n",
       "      <td>investor</td>\n",
       "      <td>https://www.crunchbase.com/organization/accel?...</td>\n",
       "      <td>accel.com</td>\n",
       "      <td>http://www.accel.com</td>\n",
       "      <td>https://res.cloudinary.com/crunchbase-producti...</td>\n",
       "      <td>http://www.facebook.com/accel</td>\n",
       "      <td>http://twitter.com/accel</td>\n",
       "      <td>https://www.linkedin.com/company/accel-vc/</td>\n",
       "      <td>NaN</td>\n",
       "      <td>Palo Alto</td>\n",
       "      <td>California</td>\n",
       "      <td>USA</td>\n",
       "      <td>Accel is an early and growth-stage venture cap...</td>\n",
       "    </tr>\n",
       "    <tr>\n",
       "      <th>186</th>\n",
       "      <td>ed54b2d5-f2f1-d4e9-9bbe-40961ff08d44</td>\n",
       "      <td>action engine</td>\n",
       "      <td>organization</td>\n",
       "      <td>company</td>\n",
       "      <td>https://www.crunchbase.com/organization/action...</td>\n",
       "      <td>actionengine.com</td>\n",
       "      <td>http://www.actionengine.com</td>\n",
       "      <td>https://res.cloudinary.com/crunchbase-producti...</td>\n",
       "      <td>NaN</td>\n",
       "      <td>NaN</td>\n",
       "      <td>https://www.linkedin.com/company/actionengine</td>\n",
       "      <td>NaN</td>\n",
       "      <td>Foster City</td>\n",
       "      <td>California</td>\n",
       "      <td>USA</td>\n",
       "      <td>Action Engine is an agile software development...</td>\n",
       "    </tr>\n",
       "    <tr>\n",
       "      <th>278</th>\n",
       "      <td>64a76f34-4e68-2eb6-d943-9465f39155cd</td>\n",
       "      <td>activeworlds</td>\n",
       "      <td>organization</td>\n",
       "      <td>company</td>\n",
       "      <td>https://www.crunchbase.com/organization/active...</td>\n",
       "      <td>activeworlds.com</td>\n",
       "      <td>http://www.activeworlds.com</td>\n",
       "      <td>https://res.cloudinary.com/crunchbase-producti...</td>\n",
       "      <td>http://www.facebook.com/activeworlds3d</td>\n",
       "      <td>http://twitter.com/activeworlds3d</td>\n",
       "      <td>NaN</td>\n",
       "      <td>NaN</td>\n",
       "      <td>Las Vegas</td>\n",
       "      <td>Nevada</td>\n",
       "      <td>USA</td>\n",
       "      <td>Active Worlds is a 3D virtual reality platform...</td>\n",
       "    </tr>\n",
       "    <tr>\n",
       "      <th>1244</th>\n",
       "      <td>ef598b5b-d588-c21f-9b93-be78443f4e22</td>\n",
       "      <td>acquia</td>\n",
       "      <td>organization</td>\n",
       "      <td>company</td>\n",
       "      <td>https://www.crunchbase.com/organization/acquia...</td>\n",
       "      <td>acquia.com</td>\n",
       "      <td>http://acquia.com</td>\n",
       "      <td>https://res.cloudinary.com/crunchbase-producti...</td>\n",
       "      <td>http://www.facebook.com/acquia</td>\n",
       "      <td>http://twitter.com/Acquia</td>\n",
       "      <td>http://www.linkedin.com/company/167056</td>\n",
       "      <td>NaN</td>\n",
       "      <td>Boston</td>\n",
       "      <td>Massachusetts</td>\n",
       "      <td>USA</td>\n",
       "      <td>Acquia specializes in providing cloud-based di...</td>\n",
       "    </tr>\n",
       "    <tr>\n",
       "      <th>1879</th>\n",
       "      <td>135f427d-7f25-9492-1ffe-801b35b6b988</td>\n",
       "      <td>academic capital exchange</td>\n",
       "      <td>organization</td>\n",
       "      <td>company</td>\n",
       "      <td>https://www.crunchbase.com/organization/academ...</td>\n",
       "      <td>academicapital.com</td>\n",
       "      <td>http://www.academicapital.com</td>\n",
       "      <td>https://res.cloudinary.com/crunchbase-producti...</td>\n",
       "      <td>NaN</td>\n",
       "      <td>NaN</td>\n",
       "      <td>NaN</td>\n",
       "      <td>NaN</td>\n",
       "      <td>Chicago</td>\n",
       "      <td>Illinois</td>\n",
       "      <td>USA</td>\n",
       "      <td>Academic Capital Exchange (ACE), a peer-to-pee...</td>\n",
       "    </tr>\n",
       "  </tbody>\n",
       "</table>\n",
       "</div>"
      ],
      "text/plain": [
       "                                      uuid                       name  \\\n",
       "4     b08efc27-da40-505a-6f9d-c9e14247bf36                      accel   \n",
       "186   ed54b2d5-f2f1-d4e9-9bbe-40961ff08d44              action engine   \n",
       "278   64a76f34-4e68-2eb6-d943-9465f39155cd               activeworlds   \n",
       "1244  ef598b5b-d588-c21f-9b93-be78443f4e22                     acquia   \n",
       "1879  135f427d-7f25-9492-1ffe-801b35b6b988  academic capital exchange   \n",
       "\n",
       "              type primary_role  \\\n",
       "4     organization     investor   \n",
       "186   organization      company   \n",
       "278   organization      company   \n",
       "1244  organization      company   \n",
       "1879  organization      company   \n",
       "\n",
       "                                                 cb_url              domain  \\\n",
       "4     https://www.crunchbase.com/organization/accel?...           accel.com   \n",
       "186   https://www.crunchbase.com/organization/action...    actionengine.com   \n",
       "278   https://www.crunchbase.com/organization/active...    activeworlds.com   \n",
       "1244  https://www.crunchbase.com/organization/acquia...          acquia.com   \n",
       "1879  https://www.crunchbase.com/organization/academ...  academicapital.com   \n",
       "\n",
       "                       homepage_url  \\\n",
       "4              http://www.accel.com   \n",
       "186     http://www.actionengine.com   \n",
       "278     http://www.activeworlds.com   \n",
       "1244              http://acquia.com   \n",
       "1879  http://www.academicapital.com   \n",
       "\n",
       "                                               logo_url  \\\n",
       "4     https://res.cloudinary.com/crunchbase-producti...   \n",
       "186   https://res.cloudinary.com/crunchbase-producti...   \n",
       "278   https://res.cloudinary.com/crunchbase-producti...   \n",
       "1244  https://res.cloudinary.com/crunchbase-producti...   \n",
       "1879  https://res.cloudinary.com/crunchbase-producti...   \n",
       "\n",
       "                                facebook_url  \\\n",
       "4              http://www.facebook.com/accel   \n",
       "186                                      NaN   \n",
       "278   http://www.facebook.com/activeworlds3d   \n",
       "1244          http://www.facebook.com/acquia   \n",
       "1879                                     NaN   \n",
       "\n",
       "                            twitter_url  \\\n",
       "4              http://twitter.com/accel   \n",
       "186                                 NaN   \n",
       "278   http://twitter.com/activeworlds3d   \n",
       "1244          http://twitter.com/Acquia   \n",
       "1879                                NaN   \n",
       "\n",
       "                                       linkedin_url combined_stock_symbols  \\\n",
       "4        https://www.linkedin.com/company/accel-vc/                    NaN   \n",
       "186   https://www.linkedin.com/company/actionengine                    NaN   \n",
       "278                                             NaN                    NaN   \n",
       "1244         http://www.linkedin.com/company/167056                    NaN   \n",
       "1879                                            NaN                    NaN   \n",
       "\n",
       "             city         region country_code  \\\n",
       "4       Palo Alto     California          USA   \n",
       "186   Foster City     California          USA   \n",
       "278     Las Vegas         Nevada          USA   \n",
       "1244       Boston  Massachusetts          USA   \n",
       "1879      Chicago       Illinois          USA   \n",
       "\n",
       "                                      short_description  \n",
       "4     Accel is an early and growth-stage venture cap...  \n",
       "186   Action Engine is an agile software development...  \n",
       "278   Active Worlds is a 3D virtual reality platform...  \n",
       "1244  Acquia specializes in providing cloud-based di...  \n",
       "1879  Academic Capital Exchange (ACE), a peer-to-pee...  "
      ]
     },
     "execution_count": 6,
     "metadata": {},
     "output_type": "execute_result"
    }
   ],
   "source": [
    "# Make the company names all lowercase to make filtering easier\n",
    "df['name'] = df['name'].str.lower()\n",
    "\n",
    "# Get the USA-based companies whose name starts with ac\n",
    "df_usa_ac = df[(df['country_code'] == 'USA') & (df['name'].str.startswith('ac'))]\n",
    "lengthFiltered = len(df_usa_ac)\n",
    "\n",
    "#Print the count of records in the resulting data frame\n",
    "print(f'Count of records: {lengthFiltered}')\n",
    "\n",
    "# Print the first 5 records of the data frame\n",
    "df_usa_ac.head()"
   ]
  },
  {
   "cell_type": "markdown",
   "id": "ef7848b3",
   "metadata": {},
   "source": [
    "## Question 3: Convert the data frame from the previous step into a list of JSON objects:\n",
    "- Print the count of JSON objects\n",
    "- Print the first 5 JSON objects\n",
    "- Write all JSON objects into a text (JSON string) file\n",
    "- Print the number of records in the resulting file\n"
   ]
  },
  {
   "cell_type": "code",
   "execution_count": 7,
   "id": "a3fd670f",
   "metadata": {
    "scrolled": true
   },
   "outputs": [
    {
     "name": "stdout",
     "output_type": "stream",
     "text": [
      "Count of objects: 35\n",
      "[{'uuid': 'b08efc27-da40-505a-6f9d-c9e14247bf36', 'name': 'accel', 'type': 'organization', 'primary_role': 'investor', 'cb_url': 'https://www.crunchbase.com/organization/accel?utm_source=crunchbase&utm_medium=export&utm_campaign=odm_csv', 'domain': 'accel.com', 'homepage_url': 'http://www.accel.com', 'logo_url': 'https://res.cloudinary.com/crunchbase-production/image/upload/kxcwecxf439wsgluv7jv', 'facebook_url': 'http://www.facebook.com/accel', 'twitter_url': 'http://twitter.com/accel', 'linkedin_url': 'https://www.linkedin.com/company/accel-vc/', 'combined_stock_symbols': None, 'city': 'Palo Alto', 'region': 'California', 'country_code': 'USA', 'short_description': 'Accel is an early and growth-stage venture capital firm that powers a global community of entrepreneurs.'}, {'uuid': 'ed54b2d5-f2f1-d4e9-9bbe-40961ff08d44', 'name': 'action engine', 'type': 'organization', 'primary_role': 'company', 'cb_url': 'https://www.crunchbase.com/organization/actionengine?utm_source=crunchbase&utm_medium=export&utm_campaign=odm_csv', 'domain': 'actionengine.com', 'homepage_url': 'http://www.actionengine.com', 'logo_url': 'https://res.cloudinary.com/crunchbase-production/image/upload/ubyv0j9it0vpkefruxr4', 'facebook_url': None, 'twitter_url': None, 'linkedin_url': 'https://www.linkedin.com/company/actionengine', 'combined_stock_symbols': None, 'city': 'Foster City', 'region': 'California', 'country_code': 'USA', 'short_description': 'Action Engine is an agile software development, design and data services agency'}, {'uuid': '64a76f34-4e68-2eb6-d943-9465f39155cd', 'name': 'activeworlds', 'type': 'organization', 'primary_role': 'company', 'cb_url': 'https://www.crunchbase.com/organization/activeworlds?utm_source=crunchbase&utm_medium=export&utm_campaign=odm_csv', 'domain': 'activeworlds.com', 'homepage_url': 'http://www.activeworlds.com', 'logo_url': 'https://res.cloudinary.com/crunchbase-production/image/upload/v1397180850/e53e7f472d5954396a2572c7d6548365.png', 'facebook_url': 'http://www.facebook.com/activeworlds3d', 'twitter_url': 'http://twitter.com/activeworlds3d', 'linkedin_url': None, 'combined_stock_symbols': None, 'city': 'Las Vegas', 'region': 'Nevada', 'country_code': 'USA', 'short_description': 'Active Worlds is a 3D virtual reality platform enabling users to build, enter and move about in worlds and interact with others.'}, {'uuid': 'ef598b5b-d588-c21f-9b93-be78443f4e22', 'name': 'acquia', 'type': 'organization', 'primary_role': 'company', 'cb_url': 'https://www.crunchbase.com/organization/acquia?utm_source=crunchbase&utm_medium=export&utm_campaign=odm_csv', 'domain': 'acquia.com', 'homepage_url': 'http://acquia.com', 'logo_url': 'https://res.cloudinary.com/crunchbase-production/image/upload/rbjvr1i7q5w5f430iavw', 'facebook_url': 'http://www.facebook.com/acquia', 'twitter_url': 'http://twitter.com/Acquia', 'linkedin_url': 'http://www.linkedin.com/company/167056', 'combined_stock_symbols': None, 'city': 'Boston', 'region': 'Massachusetts', 'country_code': 'USA', 'short_description': 'Acquia specializes in providing cloud-based digital experience management solutions.'}, {'uuid': '135f427d-7f25-9492-1ffe-801b35b6b988', 'name': 'academic capital exchange', 'type': 'organization', 'primary_role': 'company', 'cb_url': 'https://www.crunchbase.com/organization/academic-capital-exchange?utm_source=crunchbase&utm_medium=export&utm_campaign=odm_csv', 'domain': 'academicapital.com', 'homepage_url': 'http://www.academicapital.com', 'logo_url': 'https://res.cloudinary.com/crunchbase-production/image/upload/v1397183889/5fe5afd0210d774cbb5b5061010fb9a0.jpg', 'facebook_url': None, 'twitter_url': None, 'linkedin_url': None, 'combined_stock_symbols': None, 'city': 'Chicago', 'region': 'Illinois', 'country_code': 'USA', 'short_description': 'Academic Capital Exchange (ACE), a peer-to-peer student loan marketplace, helps students obtain financial support and professional guidance.'}]\n",
      "The number of records in this file: 35\n"
     ]
    }
   ],
   "source": [
    "# Convert the data frame into a list of JSON objects\n",
    "import json\n",
    "jsonStr = df_usa_ac.to_json(orient='records') # Data Frame to JSON string\n",
    "jsonList = json.loads(jsonStr) # JSON string to list of objects\n",
    "\n",
    "# Print the count of JSON objects\n",
    "print(f'Count of objects: {len(jsonList)}')\n",
    "\n",
    "# Print the first 5 JSON objects\n",
    "print(jsonList[0:5])\n",
    "\n",
    "# Write all JSON objects into a text file. \n",
    "with open(r\"C:\\Users\\annem\\Desktop\\Lesson 10\\Lesson10textFile.txt\", \"w\") as fi:\n",
    "    text = json.dumps(jsonList)\n",
    "    fi.write(text)\n",
    "fi.close()\n",
    "# Print the number of records in the resulting file.\n",
    "print(f'The number of records in this file: {len(jsonList)}')"
   ]
  },
  {
   "cell_type": "markdown",
   "id": "3ffdc785",
   "metadata": {},
   "source": [
    "## Question 4: Read the JSON objects from the created file back into a data frame, filter for companies based in New York (city):\n",
    "- Print the records in the resulting data frame\n",
    "- Write the output to a webpage using Flask"
   ]
  },
  {
   "cell_type": "code",
   "execution_count": 8,
   "id": "bae53614",
   "metadata": {
    "scrolled": false
   },
   "outputs": [
    {
     "data": {
      "text/html": [
       "<div>\n",
       "<style scoped>\n",
       "    .dataframe tbody tr th:only-of-type {\n",
       "        vertical-align: middle;\n",
       "    }\n",
       "\n",
       "    .dataframe tbody tr th {\n",
       "        vertical-align: top;\n",
       "    }\n",
       "\n",
       "    .dataframe thead th {\n",
       "        text-align: right;\n",
       "    }\n",
       "</style>\n",
       "<table border=\"1\" class=\"dataframe\">\n",
       "  <thead>\n",
       "    <tr style=\"text-align: right;\">\n",
       "      <th></th>\n",
       "      <th>uuid</th>\n",
       "      <th>name</th>\n",
       "      <th>type</th>\n",
       "      <th>primary_role</th>\n",
       "      <th>cb_url</th>\n",
       "      <th>domain</th>\n",
       "      <th>homepage_url</th>\n",
       "      <th>logo_url</th>\n",
       "      <th>facebook_url</th>\n",
       "      <th>twitter_url</th>\n",
       "      <th>linkedin_url</th>\n",
       "      <th>combined_stock_symbols</th>\n",
       "      <th>city</th>\n",
       "      <th>region</th>\n",
       "      <th>country_code</th>\n",
       "      <th>short_description</th>\n",
       "    </tr>\n",
       "  </thead>\n",
       "  <tbody>\n",
       "    <tr>\n",
       "      <th>25</th>\n",
       "      <td>41d88d51-b45f-83c8-341a-957027e036f7</td>\n",
       "      <td>activecause</td>\n",
       "      <td>organization</td>\n",
       "      <td>company</td>\n",
       "      <td>https://www.crunchbase.com/organization/active...</td>\n",
       "      <td>activecause.com</td>\n",
       "      <td>http://activecause.com</td>\n",
       "      <td>https://res.cloudinary.com/crunchbase-producti...</td>\n",
       "      <td>None</td>\n",
       "      <td>http://twitter.com/activecause</td>\n",
       "      <td>https://www.linkedin.com/in/hankejh</td>\n",
       "      <td>None</td>\n",
       "      <td>New York</td>\n",
       "      <td>New York</td>\n",
       "      <td>USA</td>\n",
       "      <td>ActiveCause brings together nonprofits, corpor...</td>\n",
       "    </tr>\n",
       "    <tr>\n",
       "      <th>32</th>\n",
       "      <td>3b7479b1-0908-7fa0-01d2-3a3db9f5036f</td>\n",
       "      <td>acerno</td>\n",
       "      <td>organization</td>\n",
       "      <td>company</td>\n",
       "      <td>https://www.crunchbase.com/organization/acerno...</td>\n",
       "      <td>acerno.com</td>\n",
       "      <td>http://www.acerno.com</td>\n",
       "      <td>https://res.cloudinary.com/crunchbase-producti...</td>\n",
       "      <td>None</td>\n",
       "      <td>None</td>\n",
       "      <td>None</td>\n",
       "      <td>None</td>\n",
       "      <td>New York</td>\n",
       "      <td>New York</td>\n",
       "      <td>USA</td>\n",
       "      <td>Acerno is an e-commerce advertising company th...</td>\n",
       "    </tr>\n",
       "  </tbody>\n",
       "</table>\n",
       "</div>"
      ],
      "text/plain": [
       "                                    uuid         name          type  \\\n",
       "25  41d88d51-b45f-83c8-341a-957027e036f7  activecause  organization   \n",
       "32  3b7479b1-0908-7fa0-01d2-3a3db9f5036f       acerno  organization   \n",
       "\n",
       "   primary_role                                             cb_url  \\\n",
       "25      company  https://www.crunchbase.com/organization/active...   \n",
       "32      company  https://www.crunchbase.com/organization/acerno...   \n",
       "\n",
       "             domain            homepage_url  \\\n",
       "25  activecause.com  http://activecause.com   \n",
       "32       acerno.com   http://www.acerno.com   \n",
       "\n",
       "                                             logo_url facebook_url  \\\n",
       "25  https://res.cloudinary.com/crunchbase-producti...         None   \n",
       "32  https://res.cloudinary.com/crunchbase-producti...         None   \n",
       "\n",
       "                       twitter_url                         linkedin_url  \\\n",
       "25  http://twitter.com/activecause  https://www.linkedin.com/in/hankejh   \n",
       "32                            None                                 None   \n",
       "\n",
       "   combined_stock_symbols      city    region country_code  \\\n",
       "25                   None  New York  New York          USA   \n",
       "32                   None  New York  New York          USA   \n",
       "\n",
       "                                    short_description  \n",
       "25  ActiveCause brings together nonprofits, corpor...  \n",
       "32  Acerno is an e-commerce advertising company th...  "
      ]
     },
     "metadata": {},
     "output_type": "display_data"
    }
   ],
   "source": [
    "from flask import Flask, render_template\n",
    "\n",
    "# Read the JSON objects from the created file back into a data frame\n",
    "jsonDict = []\n",
    "with open(r\"C:\\Users\\annem\\Desktop\\Lesson 10\\Lesson10textFile.txt\", \"r\") as fi:\n",
    "    content = fi.read()\n",
    "    jsonDict = json.loads(content) # JSON string to list of dictionaries\n",
    "fi.close()\n",
    "dframe = pd.DataFrame.from_dict(jsonDict) # list of dictionaries to data frame\n",
    "\n",
    "# Filter for companies based in NYC\n",
    "df_nyc_ac = dframe[(dframe['city'] == 'New York')]\n",
    "lengthNYC = len(df_nyc_ac)\n",
    "\n",
    "# Print the records in the resulting data frame\n",
    "display(df_nyc_ac)\n",
    "\n",
    "# Write the output to a webpage using Flask\n",
    "app = Flask(\"Question 4\")\n",
    "\n",
    "@app.route('/')\n",
    "def index():\n",
    "    return df_nyc_ac.to_html(header=True, render_links=True)"
   ]
  },
  {
   "cell_type": "code",
   "execution_count": 9,
   "id": "8a07ae36",
   "metadata": {},
   "outputs": [
    {
     "name": "stdout",
     "output_type": "stream",
     "text": [
      " * Serving Flask app 'Question 4'\n",
      " * Debug mode: off\n"
     ]
    },
    {
     "name": "stderr",
     "output_type": "stream",
     "text": [
      "WARNING: This is a development server. Do not use it in a production deployment. Use a production WSGI server instead.\n",
      " * Running on http://localhost:5001\n",
      "Press CTRL+C to quit\n",
      "127.0.0.1 - - [14/Dec/2024 14:20:09] \"GET / HTTP/1.1\" 200 -\n",
      "127.0.0.1 - - [14/Dec/2024 14:20:10] \"GET /favicon.ico HTTP/1.1\" 404 -\n"
     ]
    }
   ],
   "source": [
    "app.run(host='localhost', port=5001)"
   ]
  },
  {
   "cell_type": "markdown",
   "id": "3972bbe8",
   "metadata": {},
   "source": [
    "## Question 5: Implement Flask API functions to Return a list of Crunchbase companies based in New York\n",
    "- Take a user input through an API endpoint to return a list of JSON objects from Webhose file where the \"title\" fields contain the query string "
   ]
  },
  {
   "cell_type": "code",
   "execution_count": 27,
   "id": "2273520a",
   "metadata": {
    "scrolled": true
   },
   "outputs": [],
   "source": [
    "# Get the Webhose file (the provided csv) into a data frame for retreival\n",
    "dfQ5 = pd.read_csv(r\"C:\\Users\\annem\\Desktop\\Lesson 10\\templates\\crunchbase_odm_orgs.csv\")\n",
    "\n",
    "from flask import Flask, request\n",
    "app = Flask(\"Question 5\")\n",
    "\n",
    "@app.route('/form', methods=['GET', 'POST'])\n",
    "def form():\n",
    "    if request.method == 'GET':\n",
    "        # Display a form for the user to input the City name\n",
    "        return '''<form method=\"POST\">\n",
    "                    <label for=\"city\">Enter City:</label>\n",
    "                    <input type=\"text\" name=\"city\" id=\"city\" placeholder=\"Enter the City\">\n",
    "                    <button type=\"submit\">Submit</button>\n",
    "                  </form>'''\n",
    "    else:\n",
    "        # Process the submitted form data\n",
    "        try:\n",
    "            city = request.form['city']\n",
    "            df_filtered = dfQ5[(dfQ5['city'] == city)]\n",
    "            return jsonify(df_filtered)\n",
    "        except KeyError:\n",
    "            # Handle the case where the 'city' key is not present in the data\n",
    "            return \"Please enter the city in the form.\""
   ]
  },
  {
   "cell_type": "code",
   "execution_count": 28,
   "id": "05c58737",
   "metadata": {},
   "outputs": [
    {
     "name": "stdout",
     "output_type": "stream",
     "text": [
      " * Serving Flask app 'Question 5'\n",
      " * Debug mode: off\n"
     ]
    },
    {
     "name": "stderr",
     "output_type": "stream",
     "text": [
      "WARNING: This is a development server. Do not use it in a production deployment. Use a production WSGI server instead.\n",
      " * Running on http://localhost:5002\n",
      "Press CTRL+C to quit\n",
      "127.0.0.1 - - [14/Dec/2024 15:12:05] \"GET /form HTTP/1.1\" 200 -\n",
      "[2024-12-14 15:12:09,149] ERROR in app: Exception on /form [POST]\n",
      "Traceback (most recent call last):\n",
      "  File \"C:\\Users\\annem\\AppData\\Roaming\\Python\\Python39\\site-packages\\flask\\app.py\", line 1511, in wsgi_app\n",
      "    response = self.full_dispatch_request()\n",
      "  File \"C:\\Users\\annem\\AppData\\Roaming\\Python\\Python39\\site-packages\\flask\\app.py\", line 919, in full_dispatch_request\n",
      "    rv = self.handle_user_exception(e)\n",
      "  File \"C:\\Users\\annem\\AppData\\Roaming\\Python\\Python39\\site-packages\\flask\\app.py\", line 917, in full_dispatch_request\n",
      "    rv = self.dispatch_request()\n",
      "  File \"C:\\Users\\annem\\AppData\\Roaming\\Python\\Python39\\site-packages\\flask\\app.py\", line 902, in dispatch_request\n",
      "    return self.ensure_sync(self.view_functions[rule.endpoint])(**view_args)  # type: ignore[no-any-return]\n",
      "  File \"C:\\Users\\annem\\AppData\\Local\\Temp\\ipykernel_43704\\2934559927.py\", line 21, in form\n",
      "    return jsonify(df_filtered)\n",
      "NameError: name 'jsonify' is not defined\n",
      "127.0.0.1 - - [14/Dec/2024 15:12:09] \"POST /form HTTP/1.1\" 500 -\n"
     ]
    }
   ],
   "source": [
    "app.run(host='localhost', port=5002)"
   ]
  },
  {
   "cell_type": "markdown",
   "id": "cf737802",
   "metadata": {},
   "source": [
    "## Question 6: Git Version Control\n",
    "\n",
    "- Initialize a Git repository for your project directory.\n",
    "- Commit your code (data.py, Flask application script) with a descriptive message (e.g., \"Initial commit: Flask API with data and route\").\n",
    "- Push your code to a remote Git repository (e.g., GitHub). Submit the repository URL in the answer cell.\n"
   ]
  },
  {
   "cell_type": "code",
   "execution_count": null,
   "id": "ae522e08",
   "metadata": {
    "scrolled": true
   },
   "outputs": [],
   "source": [
    "#Write git repo link"
   ]
  },
  {
   "cell_type": "markdown",
   "id": "e5d58220",
   "metadata": {},
   "source": [
    "# Assignment End"
   ]
  }
 ],
 "metadata": {
  "kernelspec": {
   "display_name": "Python 3 (ipykernel)",
   "language": "python",
   "name": "python3"
  },
  "language_info": {
   "codemirror_mode": {
    "name": "ipython",
    "version": 3
   },
   "file_extension": ".py",
   "mimetype": "text/x-python",
   "name": "python",
   "nbconvert_exporter": "python",
   "pygments_lexer": "ipython3",
   "version": "3.9.16"
  }
 },
 "nbformat": 4,
 "nbformat_minor": 5
}
